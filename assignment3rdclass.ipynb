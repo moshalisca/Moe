{
 "cells": [
  {
   "cell_type": "code",
   "execution_count": 3,
   "id": "951431b7-b0e9-480e-8a56-d2ac208aaf4c",
   "metadata": {},
   "outputs": [
    {
     "name": "stdout",
     "output_type": "stream",
     "text": [
      "['Hello', 'How are you', 'Good Morning']\n",
      "('Hello', 'How are you', 'Good Morning')\n",
      "{'Good Morning', 'Hello', 'How are you'}\n"
     ]
    }
   ],
   "source": [
    "greeting_list_variable = [\"Hello\",\"How are you\",\"Good Morning\"]  # these data structure is called list and they have square brackets\n",
    "greeting_tuple_variable = (\"Hello\",\"How are you\",\"Good Morning\") #these data structure are called tuples have normal open/close brackets\n",
    "greeting_set_variable = {\"Hello\",\"How are you\",\"Good Morning\"} #these data structure are called set. they have curly braces\n",
    "print(greeting_list_variable)\n",
    "print(greeting_tuple_variable)\n",
    "print(greeting_set_variable)# if you look at the output of greeting_set_variable you can see that it is arranged in no particular order\n"
   ]
  },
  {
   "cell_type": "code",
   "execution_count": 7,
   "id": "f278c1d0-4eb5-4220-92d7-66d4e707e537",
   "metadata": {},
   "outputs": [
    {
     "name": "stdout",
     "output_type": "stream",
     "text": [
      "hello\n",
      "('hello',)\n"
     ]
    }
   ],
   "source": [
    "short_greet_tuple_variable = (\"hello\") #remember that tuples are enclosed in brackets and seperated by commas lets run this\n",
    "print(short_greet_tuple_variable) #you can see that the ouput is just a string that cannot be classied a tuple\n",
    "#this is because the bracket is also a mathematical operator and python cannot tell which one it is\n",
    "\n",
    "# to make a short tuple in python you have to insert a comma like so\n",
    "\n",
    "short_greet_tuple_variable2 = (\"hello\",) #you can also make a tuple by typing with a comma like so \"hello\",\n",
    "print(short_greet_tuple_variable2) # you can see that these then displays as ('hello',) with a comma inside which indicates a tuple"
   ]
  },
  {
   "cell_type": "code",
   "execution_count": 34,
   "id": "10514829-daaa-4de8-9332-077f8207b41f",
   "metadata": {},
   "outputs": [
    {
     "name": "stdout",
     "output_type": "stream",
     "text": [
      "How are you\n",
      "How are you\n"
     ]
    }
   ],
   "source": [
    "# selecting different elements of lists, tuples, and sets\n",
    "# as we were taught in the last class to select an element of a datastructure you use the [] function\n",
    "# [] also called a subscript and the index number of the element you want to acces for example\n",
    "# let us access the second element in this data structures above \n",
    "\n",
    "print(greeting_list_variable[1]) \n",
    "print(greeting_tuple_variable[1])\n",
    "#print(greeting_set_variable[1]) # as you can see we are able to display the 2nd element of the list and tuples but we get an error for sets.\n",
    "# This is because sets do not display any particular order they are mangled or random so trying to call an element of a set is impossible \n",
    "# the error says set object is not subscritable\n",
    "\n",
    "\n",
    "\n",
    "\n",
    "\n",
    "\n"
   ]
  },
  {
   "cell_type": "code",
   "execution_count": null,
   "id": "94dca88b-ddc6-4b7a-960c-b37118007715",
   "metadata": {},
   "outputs": [],
   "source": []
  },
  {
   "cell_type": "code",
   "execution_count": null,
   "id": "c155a736-f528-43eb-98ce-3ad8f49c12c6",
   "metadata": {},
   "outputs": [],
   "source": []
  },
  {
   "cell_type": "code",
   "execution_count": 40,
   "id": "dca979e8-a3ad-4027-a354-7fd41a30a492",
   "metadata": {},
   "outputs": [
    {
     "name": "stdout",
     "output_type": "stream",
     "text": [
      "['Hello', 'How are you', 'Good Morning', 'Good Night', 'Good Night', 'Good Night', 'Good Night', 'Good Night', 'Good Night', 'Good Night', 'Good Night']\n",
      "('Hello', 'How are you', 'Good Morning', 'Good Night', 'Good Night', 'Good Night', 'Good Night', 'Good Night', 'Good Night')\n",
      "{'Good Morning', 'Hello', 'Good Night', 'How are you'}\n"
     ]
    }
   ],
   "source": [
    "# adding new elements to lists, tuples and sets\n",
    "\n",
    "# to add a new element to a list you can simply do this by using .append() like so \n",
    "greeting_list_variable.append(\"Good Night\") \n",
    "print(greeting_list_variable)                  # as you can see a 3rd element has now been added to the list which is 'Good Night'\n",
    "\n",
    "# adding an element to a tuple is a little different as you cannot append to a tuple \n",
    "#greeting_tuple_variable.append(\"Good Night\") \n",
    "# you can add an element to a tuple but you can add your tuple variable to anther tuple and then reassign back like so\n",
    "\n",
    "greeting_tuple_variable = greeting_tuple_variable + (\"Good Night\",)\n",
    "print(greeting_tuple_variable)\n",
    "\n",
    "#  to add an element to a set you use .add like so \n",
    "greeting_set_variable.add(\"Good Night\")\n",
    "print(greeting_set_variable)#add also only takes one argument you cannot put add two elements to a set\n",
    "#sets also remove duplicates"
   ]
  },
  {
   "cell_type": "code",
   "execution_count": null,
   "id": "21d92c12-95ee-4c8c-8678-078177b81c7c",
   "metadata": {},
   "outputs": [],
   "source": []
  },
  {
   "cell_type": "code",
   "execution_count": 79,
   "id": "8aef94e3-8a8a-4cb9-ad90-449355023c69",
   "metadata": {},
   "outputs": [
    {
     "name": "stdout",
     "output_type": "stream",
     "text": [
      "['Good Morning', 'good day', 'hey', 'hi', 'afternoon']\n",
      "['hey', 'hi']\n",
      "['good day', 'hey']\n",
      "['Good Morning', 'good day', 'hey']\n",
      "['Good Morning', 'good day', 'hey']\n",
      "['hi', 'afternoon']\n",
      "['hey', 'hi', 'afternoon']\n"
     ]
    }
   ],
   "source": []
  },
  {
   "cell_type": "code",
   "execution_count": null,
   "id": "d854c3b7-405a-43d6-8376-a5beff928d15",
   "metadata": {},
   "outputs": [],
   "source": []
  },
  {
   "cell_type": "code",
   "execution_count": 9,
   "id": "ec3db62c-8d15-46dc-b638-8e24c4c8eb07",
   "metadata": {},
   "outputs": [
    {
     "name": "stdout",
     "output_type": "stream",
     "text": [
      "{'away', True, 'again', 'now'}\n",
      "{False, 'forgotten', 'gone', 'and'}\n",
      "{False, 'gone', 'keplr', 'forgotten'}\n"
     ]
    }
   ],
   "source": [
    "# in sets 1 and True are thesame thing also 0 and False are thesame and sets do not allow duplicates \n",
    "set2 = {\"again\",\"away\",True,1,\"now\"}\n",
    "print(set2)\n",
    "\n",
    "set3 = {\"gone\", \"and\", \"forgotten\",False,0}\n",
    "print(set3)\n",
    "\n",
    "set3.add(\"keplr\")\n",
    "set3.remove(\"and\")\n",
    "print(set3)"
   ]
  },
  {
   "cell_type": "code",
   "execution_count": null,
   "id": "9e386be2-ed21-4d4c-b370-6ac7ee71a119",
   "metadata": {},
   "outputs": [],
   "source": []
  },
  {
   "cell_type": "code",
   "execution_count": null,
   "id": "747039fb-6216-457b-95d3-b8d5ca471ab0",
   "metadata": {},
   "outputs": [],
   "source": [
    "#list slicing \n",
    "new_greet_list = [\"Good Morning\",\"good day\",\"hey\",\"hi\",\"afternoon\"]\n",
    "print(new_greet_list)\n",
    "print(new_greet_list[-3:-1])\n",
    "print(new_greet_list[-4:-2])\n",
    "print(new_greet_list[0:3])\n",
    "print(new_greet_list[:3]) # colon on the left side displays the values the values from  0 index to the indicated index including indicated index\n",
    "print(new_greet_list[3:]) # colon on the right side displays the values after the index number including the indicated index number on the left\n",
    "print(new_greet_list[-3:])"
   ]
  },
  {
   "cell_type": "code",
   "execution_count": null,
   "id": "83584bbd-3296-459f-a720-982ab0565a6a",
   "metadata": {},
   "outputs": [],
   "source": []
  }
 ],
 "metadata": {
  "kernelspec": {
   "display_name": "Python [conda env:base] *",
   "language": "python",
   "name": "conda-base-py"
  },
  "language_info": {
   "codemirror_mode": {
    "name": "ipython",
    "version": 3
   },
   "file_extension": ".py",
   "mimetype": "text/x-python",
   "name": "python",
   "nbconvert_exporter": "python",
   "pygments_lexer": "ipython3",
   "version": "3.12.7"
  }
 },
 "nbformat": 4,
 "nbformat_minor": 5
}
